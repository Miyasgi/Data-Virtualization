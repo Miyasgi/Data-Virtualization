{
 "cells": [
  {
   "cell_type": "code",
   "execution_count": 1,
   "metadata": {
    "collapsed": true
   },
   "outputs": [],
   "source": [
    "import numpy as np\n",
    "from pandas import Series,DataFrame\n",
    "import pandas as pd\n",
    "\n",
    "from numpy.random import randn"
   ]
  },
  {
   "cell_type": "code",
   "execution_count": 2,
   "metadata": {
    "collapsed": false
   },
   "outputs": [
    {
     "data": {
      "text/plain": [
       "A    1\n",
       "B    2\n",
       "C    3\n",
       "D    4\n",
       "dtype: int64"
      ]
     },
     "execution_count": 2,
     "metadata": {},
     "output_type": "execute_result"
    }
   ],
   "source": [
    "ser1 = Series([1,2,3,4],index = ['A','B','C','D'])\n",
    "ser1"
   ]
  },
  {
   "cell_type": "code",
   "execution_count": 3,
   "metadata": {
    "collapsed": true
   },
   "outputs": [],
   "source": [
    "ser2 = ser1.reindex(['A','B','C','D','E','F'])"
   ]
  },
  {
   "cell_type": "code",
   "execution_count": 4,
   "metadata": {
    "collapsed": false
   },
   "outputs": [
    {
     "data": {
      "text/plain": [
       "A     1\n",
       "B     2\n",
       "C     3\n",
       "D     4\n",
       "E   NaN\n",
       "F   NaN\n",
       "dtype: float64"
      ]
     },
     "execution_count": 4,
     "metadata": {},
     "output_type": "execute_result"
    }
   ],
   "source": [
    "ser2"
   ]
  },
  {
   "cell_type": "code",
   "execution_count": 5,
   "metadata": {
    "collapsed": false
   },
   "outputs": [
    {
     "data": {
      "text/plain": [
       "A     1\n",
       "B     2\n",
       "C     3\n",
       "D     4\n",
       "E   NaN\n",
       "F   NaN\n",
       "G     0\n",
       "dtype: float64"
      ]
     },
     "execution_count": 5,
     "metadata": {},
     "output_type": "execute_result"
    }
   ],
   "source": [
    "ser2.reindex(['A','B','C','D','E','F','G'],fill_value=0)"
   ]
  },
  {
   "cell_type": "code",
   "execution_count": 6,
   "metadata": {
    "collapsed": false
   },
   "outputs": [
    {
     "data": {
      "text/plain": [
       "0        USA\n",
       "5     Mexico\n",
       "10    Canada\n",
       "dtype: object"
      ]
     },
     "execution_count": 6,
     "metadata": {},
     "output_type": "execute_result"
    }
   ],
   "source": [
    "ser3 = Series(['USA','Mexico','Canada'],index=[0,5,10])\n",
    "ser3"
   ]
  },
  {
   "cell_type": "code",
   "execution_count": 7,
   "metadata": {
    "collapsed": true
   },
   "outputs": [],
   "source": [
    "ranger = range(15)"
   ]
  },
  {
   "cell_type": "code",
   "execution_count": 8,
   "metadata": {
    "collapsed": false
   },
   "outputs": [
    {
     "data": {
      "text/plain": [
       "[0, 1, 2, 3, 4, 5, 6, 7, 8, 9, 10, 11, 12, 13, 14]"
      ]
     },
     "execution_count": 8,
     "metadata": {},
     "output_type": "execute_result"
    }
   ],
   "source": [
    "ranger"
   ]
  },
  {
   "cell_type": "code",
   "execution_count": 9,
   "metadata": {
    "collapsed": false
   },
   "outputs": [
    {
     "data": {
      "text/plain": [
       "0        USA\n",
       "1        NaN\n",
       "2        NaN\n",
       "3        NaN\n",
       "4        NaN\n",
       "5     Mexico\n",
       "6        NaN\n",
       "7        NaN\n",
       "8        NaN\n",
       "9        NaN\n",
       "10    Canada\n",
       "11       NaN\n",
       "12       NaN\n",
       "13       NaN\n",
       "14       NaN\n",
       "dtype: object"
      ]
     },
     "execution_count": 9,
     "metadata": {},
     "output_type": "execute_result"
    }
   ],
   "source": [
    "ser3.reindex(ranger)"
   ]
  },
  {
   "cell_type": "code",
   "execution_count": 10,
   "metadata": {
    "collapsed": false
   },
   "outputs": [
    {
     "data": {
      "text/plain": [
       "0        USA\n",
       "1        USA\n",
       "2        USA\n",
       "3        USA\n",
       "4        USA\n",
       "5     Mexico\n",
       "6     Mexico\n",
       "7     Mexico\n",
       "8     Mexico\n",
       "9     Mexico\n",
       "10    Canada\n",
       "11    Canada\n",
       "12    Canada\n",
       "13    Canada\n",
       "14    Canada\n",
       "dtype: object"
      ]
     },
     "execution_count": 10,
     "metadata": {},
     "output_type": "execute_result"
    }
   ],
   "source": [
    "# the method is forward fill\n",
    "ser3.reindex(ranger,method='ffill')"
   ]
  },
  {
   "cell_type": "code",
   "execution_count": 12,
   "metadata": {
    "collapsed": false
   },
   "outputs": [
    {
     "data": {
      "text/html": [
       "<div>\n",
       "<table border=\"1\" class=\"dataframe\">\n",
       "  <thead>\n",
       "    <tr style=\"text-align: right;\">\n",
       "      <th></th>\n",
       "      <th>col1</th>\n",
       "      <th>col2</th>\n",
       "      <th>col3</th>\n",
       "      <th>col4</th>\n",
       "      <th>col5</th>\n",
       "    </tr>\n",
       "  </thead>\n",
       "  <tbody>\n",
       "    <tr>\n",
       "      <th>A</th>\n",
       "      <td>0.540120</td>\n",
       "      <td>-1.695612</td>\n",
       "      <td>-0.695288</td>\n",
       "      <td>-1.044994</td>\n",
       "      <td>-1.689701</td>\n",
       "    </tr>\n",
       "    <tr>\n",
       "      <th>B</th>\n",
       "      <td>0.019159</td>\n",
       "      <td>-1.570270</td>\n",
       "      <td>-1.306375</td>\n",
       "      <td>0.026649</td>\n",
       "      <td>0.998676</td>\n",
       "    </tr>\n",
       "    <tr>\n",
       "      <th>D</th>\n",
       "      <td>1.381003</td>\n",
       "      <td>0.212745</td>\n",
       "      <td>0.590925</td>\n",
       "      <td>-0.571130</td>\n",
       "      <td>0.102757</td>\n",
       "    </tr>\n",
       "    <tr>\n",
       "      <th>E</th>\n",
       "      <td>-0.135967</td>\n",
       "      <td>-1.170309</td>\n",
       "      <td>-1.471685</td>\n",
       "      <td>0.990200</td>\n",
       "      <td>-0.599869</td>\n",
       "    </tr>\n",
       "    <tr>\n",
       "      <th>F</th>\n",
       "      <td>0.664487</td>\n",
       "      <td>-0.446622</td>\n",
       "      <td>1.215292</td>\n",
       "      <td>-1.344340</td>\n",
       "      <td>0.362217</td>\n",
       "    </tr>\n",
       "  </tbody>\n",
       "</table>\n",
       "</div>"
      ],
      "text/plain": [
       "       col1      col2      col3      col4      col5\n",
       "A  0.540120 -1.695612 -0.695288 -1.044994 -1.689701\n",
       "B  0.019159 -1.570270 -1.306375  0.026649  0.998676\n",
       "D  1.381003  0.212745  0.590925 -0.571130  0.102757\n",
       "E -0.135967 -1.170309 -1.471685  0.990200 -0.599869\n",
       "F  0.664487 -0.446622  1.215292 -1.344340  0.362217"
      ]
     },
     "execution_count": 12,
     "metadata": {},
     "output_type": "execute_result"
    }
   ],
   "source": [
    "dframe = DataFrame(randn(25).reshape((5,5)),index=['A','B','D','E','F'],\n",
    "                   columns=['col1','col2','col3','col4','col5'])\n",
    "dframe"
   ]
  },
  {
   "cell_type": "code",
   "execution_count": 13,
   "metadata": {
    "collapsed": true
   },
   "outputs": [],
   "source": [
    "dframe2 = dframe.reindex(['A','B','C','D','E','F'])\n"
   ]
  },
  {
   "cell_type": "code",
   "execution_count": 14,
   "metadata": {
    "collapsed": false
   },
   "outputs": [
    {
     "data": {
      "text/html": [
       "<div>\n",
       "<table border=\"1\" class=\"dataframe\">\n",
       "  <thead>\n",
       "    <tr style=\"text-align: right;\">\n",
       "      <th></th>\n",
       "      <th>col1</th>\n",
       "      <th>col2</th>\n",
       "      <th>col3</th>\n",
       "      <th>col4</th>\n",
       "      <th>col5</th>\n",
       "    </tr>\n",
       "  </thead>\n",
       "  <tbody>\n",
       "    <tr>\n",
       "      <th>A</th>\n",
       "      <td>0.540120</td>\n",
       "      <td>-1.695612</td>\n",
       "      <td>-0.695288</td>\n",
       "      <td>-1.044994</td>\n",
       "      <td>-1.689701</td>\n",
       "    </tr>\n",
       "    <tr>\n",
       "      <th>B</th>\n",
       "      <td>0.019159</td>\n",
       "      <td>-1.570270</td>\n",
       "      <td>-1.306375</td>\n",
       "      <td>0.026649</td>\n",
       "      <td>0.998676</td>\n",
       "    </tr>\n",
       "    <tr>\n",
       "      <th>C</th>\n",
       "      <td>NaN</td>\n",
       "      <td>NaN</td>\n",
       "      <td>NaN</td>\n",
       "      <td>NaN</td>\n",
       "      <td>NaN</td>\n",
       "    </tr>\n",
       "    <tr>\n",
       "      <th>D</th>\n",
       "      <td>1.381003</td>\n",
       "      <td>0.212745</td>\n",
       "      <td>0.590925</td>\n",
       "      <td>-0.571130</td>\n",
       "      <td>0.102757</td>\n",
       "    </tr>\n",
       "    <tr>\n",
       "      <th>E</th>\n",
       "      <td>-0.135967</td>\n",
       "      <td>-1.170309</td>\n",
       "      <td>-1.471685</td>\n",
       "      <td>0.990200</td>\n",
       "      <td>-0.599869</td>\n",
       "    </tr>\n",
       "    <tr>\n",
       "      <th>F</th>\n",
       "      <td>0.664487</td>\n",
       "      <td>-0.446622</td>\n",
       "      <td>1.215292</td>\n",
       "      <td>-1.344340</td>\n",
       "      <td>0.362217</td>\n",
       "    </tr>\n",
       "  </tbody>\n",
       "</table>\n",
       "</div>"
      ],
      "text/plain": [
       "       col1      col2      col3      col4      col5\n",
       "A  0.540120 -1.695612 -0.695288 -1.044994 -1.689701\n",
       "B  0.019159 -1.570270 -1.306375  0.026649  0.998676\n",
       "C       NaN       NaN       NaN       NaN       NaN\n",
       "D  1.381003  0.212745  0.590925 -0.571130  0.102757\n",
       "E -0.135967 -1.170309 -1.471685  0.990200 -0.599869\n",
       "F  0.664487 -0.446622  1.215292 -1.344340  0.362217"
      ]
     },
     "execution_count": 14,
     "metadata": {},
     "output_type": "execute_result"
    }
   ],
   "source": [
    "dframe2"
   ]
  },
  {
   "cell_type": "code",
   "execution_count": 15,
   "metadata": {
    "collapsed": true
   },
   "outputs": [],
   "source": [
    "new_columns = ['col1','col2','col3','col4','col5','col6']"
   ]
  },
  {
   "cell_type": "code",
   "execution_count": 16,
   "metadata": {
    "collapsed": false
   },
   "outputs": [
    {
     "data": {
      "text/html": [
       "<div>\n",
       "<table border=\"1\" class=\"dataframe\">\n",
       "  <thead>\n",
       "    <tr style=\"text-align: right;\">\n",
       "      <th></th>\n",
       "      <th>col1</th>\n",
       "      <th>col2</th>\n",
       "      <th>col3</th>\n",
       "      <th>col4</th>\n",
       "      <th>col5</th>\n",
       "      <th>col6</th>\n",
       "    </tr>\n",
       "  </thead>\n",
       "  <tbody>\n",
       "    <tr>\n",
       "      <th>A</th>\n",
       "      <td>0.540120</td>\n",
       "      <td>-1.695612</td>\n",
       "      <td>-0.695288</td>\n",
       "      <td>-1.044994</td>\n",
       "      <td>-1.689701</td>\n",
       "      <td>NaN</td>\n",
       "    </tr>\n",
       "    <tr>\n",
       "      <th>B</th>\n",
       "      <td>0.019159</td>\n",
       "      <td>-1.570270</td>\n",
       "      <td>-1.306375</td>\n",
       "      <td>0.026649</td>\n",
       "      <td>0.998676</td>\n",
       "      <td>NaN</td>\n",
       "    </tr>\n",
       "    <tr>\n",
       "      <th>C</th>\n",
       "      <td>NaN</td>\n",
       "      <td>NaN</td>\n",
       "      <td>NaN</td>\n",
       "      <td>NaN</td>\n",
       "      <td>NaN</td>\n",
       "      <td>NaN</td>\n",
       "    </tr>\n",
       "    <tr>\n",
       "      <th>D</th>\n",
       "      <td>1.381003</td>\n",
       "      <td>0.212745</td>\n",
       "      <td>0.590925</td>\n",
       "      <td>-0.571130</td>\n",
       "      <td>0.102757</td>\n",
       "      <td>NaN</td>\n",
       "    </tr>\n",
       "    <tr>\n",
       "      <th>E</th>\n",
       "      <td>-0.135967</td>\n",
       "      <td>-1.170309</td>\n",
       "      <td>-1.471685</td>\n",
       "      <td>0.990200</td>\n",
       "      <td>-0.599869</td>\n",
       "      <td>NaN</td>\n",
       "    </tr>\n",
       "    <tr>\n",
       "      <th>F</th>\n",
       "      <td>0.664487</td>\n",
       "      <td>-0.446622</td>\n",
       "      <td>1.215292</td>\n",
       "      <td>-1.344340</td>\n",
       "      <td>0.362217</td>\n",
       "      <td>NaN</td>\n",
       "    </tr>\n",
       "  </tbody>\n",
       "</table>\n",
       "</div>"
      ],
      "text/plain": [
       "       col1      col2      col3      col4      col5  col6\n",
       "A  0.540120 -1.695612 -0.695288 -1.044994 -1.689701   NaN\n",
       "B  0.019159 -1.570270 -1.306375  0.026649  0.998676   NaN\n",
       "C       NaN       NaN       NaN       NaN       NaN   NaN\n",
       "D  1.381003  0.212745  0.590925 -0.571130  0.102757   NaN\n",
       "E -0.135967 -1.170309 -1.471685  0.990200 -0.599869   NaN\n",
       "F  0.664487 -0.446622  1.215292 -1.344340  0.362217   NaN"
      ]
     },
     "execution_count": 16,
     "metadata": {},
     "output_type": "execute_result"
    }
   ],
   "source": [
    "dframe2.reindex(columns=new_columns)"
   ]
  },
  {
   "cell_type": "code",
   "execution_count": 17,
   "metadata": {
    "collapsed": false
   },
   "outputs": [
    {
     "data": {
      "text/html": [
       "<div>\n",
       "<table border=\"1\" class=\"dataframe\">\n",
       "  <thead>\n",
       "    <tr style=\"text-align: right;\">\n",
       "      <th></th>\n",
       "      <th>col1</th>\n",
       "      <th>col2</th>\n",
       "      <th>col3</th>\n",
       "      <th>col4</th>\n",
       "      <th>col5</th>\n",
       "    </tr>\n",
       "  </thead>\n",
       "  <tbody>\n",
       "    <tr>\n",
       "      <th>A</th>\n",
       "      <td>0.540120</td>\n",
       "      <td>-1.695612</td>\n",
       "      <td>-0.695288</td>\n",
       "      <td>-1.044994</td>\n",
       "      <td>-1.689701</td>\n",
       "    </tr>\n",
       "    <tr>\n",
       "      <th>B</th>\n",
       "      <td>0.019159</td>\n",
       "      <td>-1.570270</td>\n",
       "      <td>-1.306375</td>\n",
       "      <td>0.026649</td>\n",
       "      <td>0.998676</td>\n",
       "    </tr>\n",
       "    <tr>\n",
       "      <th>D</th>\n",
       "      <td>1.381003</td>\n",
       "      <td>0.212745</td>\n",
       "      <td>0.590925</td>\n",
       "      <td>-0.571130</td>\n",
       "      <td>0.102757</td>\n",
       "    </tr>\n",
       "    <tr>\n",
       "      <th>E</th>\n",
       "      <td>-0.135967</td>\n",
       "      <td>-1.170309</td>\n",
       "      <td>-1.471685</td>\n",
       "      <td>0.990200</td>\n",
       "      <td>-0.599869</td>\n",
       "    </tr>\n",
       "    <tr>\n",
       "      <th>F</th>\n",
       "      <td>0.664487</td>\n",
       "      <td>-0.446622</td>\n",
       "      <td>1.215292</td>\n",
       "      <td>-1.344340</td>\n",
       "      <td>0.362217</td>\n",
       "    </tr>\n",
       "  </tbody>\n",
       "</table>\n",
       "</div>"
      ],
      "text/plain": [
       "       col1      col2      col3      col4      col5\n",
       "A  0.540120 -1.695612 -0.695288 -1.044994 -1.689701\n",
       "B  0.019159 -1.570270 -1.306375  0.026649  0.998676\n",
       "D  1.381003  0.212745  0.590925 -0.571130  0.102757\n",
       "E -0.135967 -1.170309 -1.471685  0.990200 -0.599869\n",
       "F  0.664487 -0.446622  1.215292 -1.344340  0.362217"
      ]
     },
     "execution_count": 17,
     "metadata": {},
     "output_type": "execute_result"
    }
   ],
   "source": [
    "dframe"
   ]
  },
  {
   "cell_type": "code",
   "execution_count": 18,
   "metadata": {
    "collapsed": false
   },
   "outputs": [
    {
     "data": {
      "text/html": [
       "<div>\n",
       "<table border=\"1\" class=\"dataframe\">\n",
       "  <thead>\n",
       "    <tr style=\"text-align: right;\">\n",
       "      <th></th>\n",
       "      <th>col1</th>\n",
       "      <th>col2</th>\n",
       "      <th>col3</th>\n",
       "      <th>col4</th>\n",
       "      <th>col5</th>\n",
       "      <th>col6</th>\n",
       "    </tr>\n",
       "  </thead>\n",
       "  <tbody>\n",
       "    <tr>\n",
       "      <th>A</th>\n",
       "      <td>0.540120</td>\n",
       "      <td>-1.695612</td>\n",
       "      <td>-0.695288</td>\n",
       "      <td>-1.044994</td>\n",
       "      <td>-1.689701</td>\n",
       "      <td>NaN</td>\n",
       "    </tr>\n",
       "    <tr>\n",
       "      <th>B</th>\n",
       "      <td>0.019159</td>\n",
       "      <td>-1.570270</td>\n",
       "      <td>-1.306375</td>\n",
       "      <td>0.026649</td>\n",
       "      <td>0.998676</td>\n",
       "      <td>NaN</td>\n",
       "    </tr>\n",
       "    <tr>\n",
       "      <th>C</th>\n",
       "      <td>NaN</td>\n",
       "      <td>NaN</td>\n",
       "      <td>NaN</td>\n",
       "      <td>NaN</td>\n",
       "      <td>NaN</td>\n",
       "      <td>NaN</td>\n",
       "    </tr>\n",
       "    <tr>\n",
       "      <th>D</th>\n",
       "      <td>1.381003</td>\n",
       "      <td>0.212745</td>\n",
       "      <td>0.590925</td>\n",
       "      <td>-0.571130</td>\n",
       "      <td>0.102757</td>\n",
       "      <td>NaN</td>\n",
       "    </tr>\n",
       "    <tr>\n",
       "      <th>E</th>\n",
       "      <td>-0.135967</td>\n",
       "      <td>-1.170309</td>\n",
       "      <td>-1.471685</td>\n",
       "      <td>0.990200</td>\n",
       "      <td>-0.599869</td>\n",
       "      <td>NaN</td>\n",
       "    </tr>\n",
       "    <tr>\n",
       "      <th>F</th>\n",
       "      <td>0.664487</td>\n",
       "      <td>-0.446622</td>\n",
       "      <td>1.215292</td>\n",
       "      <td>-1.344340</td>\n",
       "      <td>0.362217</td>\n",
       "      <td>NaN</td>\n",
       "    </tr>\n",
       "  </tbody>\n",
       "</table>\n",
       "</div>"
      ],
      "text/plain": [
       "       col1      col2      col3      col4      col5  col6\n",
       "A  0.540120 -1.695612 -0.695288 -1.044994 -1.689701   NaN\n",
       "B  0.019159 -1.570270 -1.306375  0.026649  0.998676   NaN\n",
       "C       NaN       NaN       NaN       NaN       NaN   NaN\n",
       "D  1.381003  0.212745  0.590925 -0.571130  0.102757   NaN\n",
       "E -0.135967 -1.170309 -1.471685  0.990200 -0.599869   NaN\n",
       "F  0.664487 -0.446622  1.215292 -1.344340  0.362217   NaN"
      ]
     },
     "execution_count": 18,
     "metadata": {},
     "output_type": "execute_result"
    }
   ],
   "source": [
    "dframe.ix[['A','B','C','D','E','F'],new_columns]"
   ]
  },
  {
   "cell_type": "code",
   "execution_count": null,
   "metadata": {
    "collapsed": true
   },
   "outputs": [],
   "source": []
  }
 ],
 "metadata": {
  "kernelspec": {
   "display_name": "Python 2",
   "language": "python",
   "name": "python2"
  },
  "language_info": {
   "codemirror_mode": {
    "name": "ipython",
    "version": 2
   },
   "file_extension": ".py",
   "mimetype": "text/x-python",
   "name": "python",
   "nbconvert_exporter": "python",
   "pygments_lexer": "ipython2",
   "version": "2.7.10"
  }
 },
 "nbformat": 4,
 "nbformat_minor": 0
}
